{
 "cells": [
  {
   "cell_type": "code",
   "execution_count": 1,
   "id": "bde54f4c",
   "metadata": {},
   "outputs": [],
   "source": [
    "import pandas as pd"
   ]
  },
  {
   "cell_type": "code",
   "execution_count": 234,
   "id": "ccf60aee",
   "metadata": {},
   "outputs": [
    {
     "data": {
      "text/html": [
       "<div>\n",
       "<style scoped>\n",
       "    .dataframe tbody tr th:only-of-type {\n",
       "        vertical-align: middle;\n",
       "    }\n",
       "\n",
       "    .dataframe tbody tr th {\n",
       "        vertical-align: top;\n",
       "    }\n",
       "\n",
       "    .dataframe thead th {\n",
       "        text-align: right;\n",
       "    }\n",
       "</style>\n",
       "<table border=\"1\" class=\"dataframe\">\n",
       "  <thead>\n",
       "    <tr style=\"text-align: right;\">\n",
       "      <th></th>\n",
       "      <th>title</th>\n",
       "      <th>year</th>\n",
       "      <th>name</th>\n",
       "      <th>type</th>\n",
       "      <th>character</th>\n",
       "      <th>n</th>\n",
       "    </tr>\n",
       "  </thead>\n",
       "  <tbody>\n",
       "    <tr>\n",
       "      <th>0</th>\n",
       "      <td>Closet Monster</td>\n",
       "      <td>2015</td>\n",
       "      <td>Buffy #1</td>\n",
       "      <td>actor</td>\n",
       "      <td>Buffy 4</td>\n",
       "      <td>NaN</td>\n",
       "    </tr>\n",
       "    <tr>\n",
       "      <th>1</th>\n",
       "      <td>Suuri illusioni</td>\n",
       "      <td>1985</td>\n",
       "      <td>Homo $</td>\n",
       "      <td>actor</td>\n",
       "      <td>Guests</td>\n",
       "      <td>22.0</td>\n",
       "    </tr>\n",
       "    <tr>\n",
       "      <th>2</th>\n",
       "      <td>Battle of the Sexes</td>\n",
       "      <td>2017</td>\n",
       "      <td>$hutter</td>\n",
       "      <td>actor</td>\n",
       "      <td>Bobby Riggs Fan</td>\n",
       "      <td>10.0</td>\n",
       "    </tr>\n",
       "    <tr>\n",
       "      <th>3</th>\n",
       "      <td>Secret in Their Eyes</td>\n",
       "      <td>2015</td>\n",
       "      <td>$hutter</td>\n",
       "      <td>actor</td>\n",
       "      <td>2002 Dodger Fan</td>\n",
       "      <td>NaN</td>\n",
       "    </tr>\n",
       "    <tr>\n",
       "      <th>4</th>\n",
       "      <td>Steve Jobs</td>\n",
       "      <td>2015</td>\n",
       "      <td>$hutter</td>\n",
       "      <td>actor</td>\n",
       "      <td>1988 Opera House Patron</td>\n",
       "      <td>NaN</td>\n",
       "    </tr>\n",
       "    <tr>\n",
       "      <th>...</th>\n",
       "      <td>...</td>\n",
       "      <td>...</td>\n",
       "      <td>...</td>\n",
       "      <td>...</td>\n",
       "      <td>...</td>\n",
       "      <td>...</td>\n",
       "    </tr>\n",
       "    <tr>\n",
       "      <th>3611207</th>\n",
       "      <td>Foxtrot</td>\n",
       "      <td>1988</td>\n",
       "      <td>Lilja ??risd?ttir</td>\n",
       "      <td>actress</td>\n",
       "      <td>D?ra</td>\n",
       "      <td>24.0</td>\n",
       "    </tr>\n",
       "    <tr>\n",
       "      <th>3611208</th>\n",
       "      <td>Niceland (Population. 1.000.002)</td>\n",
       "      <td>2004</td>\n",
       "      <td>Sigr??ur J?na ??risd?ttir</td>\n",
       "      <td>actress</td>\n",
       "      <td>Woman in Bus</td>\n",
       "      <td>26.0</td>\n",
       "    </tr>\n",
       "    <tr>\n",
       "      <th>3611209</th>\n",
       "      <td>Skammdegi</td>\n",
       "      <td>1985</td>\n",
       "      <td>Dalla ??r?ard?ttir</td>\n",
       "      <td>actress</td>\n",
       "      <td>Hj?krunarkona</td>\n",
       "      <td>9.0</td>\n",
       "    </tr>\n",
       "    <tr>\n",
       "      <th>3611210</th>\n",
       "      <td>U.S.S.S.S...</td>\n",
       "      <td>2003</td>\n",
       "      <td>Krist?n Andrea ??r?ard?ttir</td>\n",
       "      <td>actress</td>\n",
       "      <td>Afgr.dama ? bens?nst??</td>\n",
       "      <td>17.0</td>\n",
       "    </tr>\n",
       "    <tr>\n",
       "      <th>3611211</th>\n",
       "      <td>Bye Bye Blue Bird</td>\n",
       "      <td>1999</td>\n",
       "      <td>Rosa ? R?gvu</td>\n",
       "      <td>actress</td>\n",
       "      <td>Pensionatv?rtinde</td>\n",
       "      <td>NaN</td>\n",
       "    </tr>\n",
       "  </tbody>\n",
       "</table>\n",
       "<p>3611212 rows × 6 columns</p>\n",
       "</div>"
      ],
      "text/plain": [
       "                                    title  year                         name  \\\n",
       "0                          Closet Monster  2015                     Buffy #1   \n",
       "1                         Suuri illusioni  1985                       Homo $   \n",
       "2                     Battle of the Sexes  2017                      $hutter   \n",
       "3                    Secret in Their Eyes  2015                      $hutter   \n",
       "4                              Steve Jobs  2015                      $hutter   \n",
       "...                                   ...   ...                          ...   \n",
       "3611207                           Foxtrot  1988            Lilja ??risd?ttir   \n",
       "3611208  Niceland (Population. 1.000.002)  2004    Sigr??ur J?na ??risd?ttir   \n",
       "3611209                         Skammdegi  1985           Dalla ??r?ard?ttir   \n",
       "3611210                      U.S.S.S.S...  2003  Krist?n Andrea ??r?ard?ttir   \n",
       "3611211                 Bye Bye Blue Bird  1999                 Rosa ? R?gvu   \n",
       "\n",
       "            type                character     n  \n",
       "0          actor                  Buffy 4   NaN  \n",
       "1          actor                   Guests  22.0  \n",
       "2          actor          Bobby Riggs Fan  10.0  \n",
       "3          actor          2002 Dodger Fan   NaN  \n",
       "4          actor  1988 Opera House Patron   NaN  \n",
       "...          ...                      ...   ...  \n",
       "3611207  actress                     D?ra  24.0  \n",
       "3611208  actress             Woman in Bus  26.0  \n",
       "3611209  actress            Hj?krunarkona   9.0  \n",
       "3611210  actress   Afgr.dama ? bens?nst??  17.0  \n",
       "3611211  actress        Pensionatv?rtinde   NaN  \n",
       "\n",
       "[3611212 rows x 6 columns]"
      ]
     },
     "execution_count": 234,
     "metadata": {},
     "output_type": "execute_result"
    }
   ],
   "source": [
    "data = pd.read_csv('C:/Python Lectures nd Assignment/Data_worksheets/cast.csv')\n"
   ]
  },
  {
   "cell_type": "code",
   "execution_count": 4,
   "id": "63750e82",
   "metadata": {},
   "outputs": [
    {
     "data": {
      "text/html": [
       "<div>\n",
       "<style scoped>\n",
       "    .dataframe tbody tr th:only-of-type {\n",
       "        vertical-align: middle;\n",
       "    }\n",
       "\n",
       "    .dataframe tbody tr th {\n",
       "        vertical-align: top;\n",
       "    }\n",
       "\n",
       "    .dataframe thead th {\n",
       "        text-align: right;\n",
       "    }\n",
       "</style>\n",
       "<table border=\"1\" class=\"dataframe\">\n",
       "  <thead>\n",
       "    <tr style=\"text-align: right;\">\n",
       "      <th></th>\n",
       "      <th>title</th>\n",
       "      <th>year</th>\n",
       "      <th>name</th>\n",
       "      <th>type</th>\n",
       "      <th>character</th>\n",
       "      <th>n</th>\n",
       "    </tr>\n",
       "  </thead>\n",
       "  <tbody>\n",
       "    <tr>\n",
       "      <th>0</th>\n",
       "      <td>Closet Monster</td>\n",
       "      <td>2015</td>\n",
       "      <td>Buffy #1</td>\n",
       "      <td>actor</td>\n",
       "      <td>Buffy 4</td>\n",
       "      <td>NaN</td>\n",
       "    </tr>\n",
       "    <tr>\n",
       "      <th>1</th>\n",
       "      <td>Suuri illusioni</td>\n",
       "      <td>1985</td>\n",
       "      <td>Homo $</td>\n",
       "      <td>actor</td>\n",
       "      <td>Guests</td>\n",
       "      <td>22.0</td>\n",
       "    </tr>\n",
       "    <tr>\n",
       "      <th>2</th>\n",
       "      <td>Battle of the Sexes</td>\n",
       "      <td>2017</td>\n",
       "      <td>$hutter</td>\n",
       "      <td>actor</td>\n",
       "      <td>Bobby Riggs Fan</td>\n",
       "      <td>10.0</td>\n",
       "    </tr>\n",
       "    <tr>\n",
       "      <th>3</th>\n",
       "      <td>Secret in Their Eyes</td>\n",
       "      <td>2015</td>\n",
       "      <td>$hutter</td>\n",
       "      <td>actor</td>\n",
       "      <td>2002 Dodger Fan</td>\n",
       "      <td>NaN</td>\n",
       "    </tr>\n",
       "    <tr>\n",
       "      <th>4</th>\n",
       "      <td>Steve Jobs</td>\n",
       "      <td>2015</td>\n",
       "      <td>$hutter</td>\n",
       "      <td>actor</td>\n",
       "      <td>1988 Opera House Patron</td>\n",
       "      <td>NaN</td>\n",
       "    </tr>\n",
       "    <tr>\n",
       "      <th>5</th>\n",
       "      <td>Straight Outta Compton</td>\n",
       "      <td>2015</td>\n",
       "      <td>$hutter</td>\n",
       "      <td>actor</td>\n",
       "      <td>Club Patron</td>\n",
       "      <td>NaN</td>\n",
       "    </tr>\n",
       "    <tr>\n",
       "      <th>6</th>\n",
       "      <td>Straight Outta Compton</td>\n",
       "      <td>2015</td>\n",
       "      <td>$hutter</td>\n",
       "      <td>actor</td>\n",
       "      <td>Dopeman</td>\n",
       "      <td>NaN</td>\n",
       "    </tr>\n",
       "    <tr>\n",
       "      <th>7</th>\n",
       "      <td>For Thy Love 2</td>\n",
       "      <td>2009</td>\n",
       "      <td>Bee Moe $lim</td>\n",
       "      <td>actor</td>\n",
       "      <td>Thug 1</td>\n",
       "      <td>NaN</td>\n",
       "    </tr>\n",
       "    <tr>\n",
       "      <th>8</th>\n",
       "      <td>Lapis, Ballpen at Diploma, a True to Life Journey</td>\n",
       "      <td>2014</td>\n",
       "      <td>Jori ' Danilo' Jurado Jr.</td>\n",
       "      <td>actor</td>\n",
       "      <td>Jaime (young)</td>\n",
       "      <td>9.0</td>\n",
       "    </tr>\n",
       "    <tr>\n",
       "      <th>9</th>\n",
       "      <td>Desire (III)</td>\n",
       "      <td>2014</td>\n",
       "      <td>Syaiful 'Ariffin</td>\n",
       "      <td>actor</td>\n",
       "      <td>Actor Playing Eteocles from 'Antigone'</td>\n",
       "      <td>NaN</td>\n",
       "    </tr>\n",
       "  </tbody>\n",
       "</table>\n",
       "</div>"
      ],
      "text/plain": [
       "                                               title  year  \\\n",
       "0                                     Closet Monster  2015   \n",
       "1                                    Suuri illusioni  1985   \n",
       "2                                Battle of the Sexes  2017   \n",
       "3                               Secret in Their Eyes  2015   \n",
       "4                                         Steve Jobs  2015   \n",
       "5                             Straight Outta Compton  2015   \n",
       "6                             Straight Outta Compton  2015   \n",
       "7                                     For Thy Love 2  2009   \n",
       "8  Lapis, Ballpen at Diploma, a True to Life Journey  2014   \n",
       "9                                       Desire (III)  2014   \n",
       "\n",
       "                        name   type                               character  \\\n",
       "0                   Buffy #1  actor                                 Buffy 4   \n",
       "1                     Homo $  actor                                  Guests   \n",
       "2                    $hutter  actor                         Bobby Riggs Fan   \n",
       "3                    $hutter  actor                         2002 Dodger Fan   \n",
       "4                    $hutter  actor                 1988 Opera House Patron   \n",
       "5                    $hutter  actor                             Club Patron   \n",
       "6                    $hutter  actor                                 Dopeman   \n",
       "7               Bee Moe $lim  actor                                  Thug 1   \n",
       "8  Jori ' Danilo' Jurado Jr.  actor                           Jaime (young)   \n",
       "9           Syaiful 'Ariffin  actor  Actor Playing Eteocles from 'Antigone'   \n",
       "\n",
       "      n  \n",
       "0   NaN  \n",
       "1  22.0  \n",
       "2  10.0  \n",
       "3   NaN  \n",
       "4   NaN  \n",
       "5   NaN  \n",
       "6   NaN  \n",
       "7   NaN  \n",
       "8   9.0  \n",
       "9   NaN  "
      ]
     },
     "execution_count": 4,
     "metadata": {},
     "output_type": "execute_result"
    }
   ],
   "source": [
    "data.head(10)"
   ]
  },
  {
   "cell_type": "code",
   "execution_count": 6,
   "id": "c2484b91",
   "metadata": {},
   "outputs": [
    {
     "name": "stdout",
     "output_type": "stream",
     "text": [
      "172294\n"
     ]
    }
   ],
   "source": [
    "### How many movies are listed in the titles dataframe?\n",
    "\n",
    "print(data['title'].nunique())"
   ]
  },
  {
   "cell_type": "code",
   "execution_count": 35,
   "id": "0964f11e",
   "metadata": {},
   "outputs": [
    {
     "name": "stdout",
     "output_type": "stream",
     "text": [
      "['Miss Jerry' 'Soldiers of the Cross']\n"
     ]
    }
   ],
   "source": [
    "### What are the earliest two films listed in the titles dataframe?\n",
    "data1 = data.sort_values(by='year',ascending=True)\n",
    "d = data1['title'].unique()\n",
    "print(d[:2])\n"
   ]
  },
  {
   "cell_type": "code",
   "execution_count": 42,
   "id": "8c23f830",
   "metadata": {},
   "outputs": [
    {
     "data": {
      "text/plain": [
       "313"
      ]
     },
     "execution_count": 42,
     "metadata": {},
     "output_type": "execute_result"
    }
   ],
   "source": [
    "### How many movies have the title \"Hamlet\"?\n",
    "len(data[data['title']=='Hamlet'])"
   ]
  },
  {
   "cell_type": "code",
   "execution_count": 63,
   "id": "9cdd7c68",
   "metadata": {},
   "outputs": [
    {
     "data": {
      "text/plain": [
       "313"
      ]
     },
     "execution_count": 63,
     "metadata": {},
     "output_type": "execute_result"
    }
   ],
   "source": [
    "a=(data['title']=='Hamlet').sum()\n",
    "a"
   ]
  },
  {
   "cell_type": "code",
   "execution_count": 65,
   "id": "b618c24f",
   "metadata": {},
   "outputs": [
    {
     "data": {
      "text/plain": [
       "112"
      ]
     },
     "execution_count": 65,
     "metadata": {},
     "output_type": "execute_result"
    }
   ],
   "source": [
    "### How many movies are titled \"North by Northwest\"?\n",
    "len(data[data['title']=='North by Northwest'])"
   ]
  },
  {
   "cell_type": "code",
   "execution_count": 74,
   "id": "94891805",
   "metadata": {},
   "outputs": [
    {
     "name": "stdout",
     "output_type": "stream",
     "text": [
      "1910\n"
     ]
    }
   ],
   "source": [
    "### When was the first movie titled \"Hamlet\" made?\n",
    "data1 = data[data['title']=='Hamlet']\n",
    "print(data1['year'].min())\n"
   ]
  },
  {
   "cell_type": "code",
   "execution_count": 79,
   "id": "df507dab",
   "metadata": {},
   "outputs": [
    {
     "data": {
      "text/html": [
       "<div>\n",
       "<style scoped>\n",
       "    .dataframe tbody tr th:only-of-type {\n",
       "        vertical-align: middle;\n",
       "    }\n",
       "\n",
       "    .dataframe tbody tr th {\n",
       "        vertical-align: top;\n",
       "    }\n",
       "\n",
       "    .dataframe thead th {\n",
       "        text-align: right;\n",
       "    }\n",
       "</style>\n",
       "<table border=\"1\" class=\"dataframe\">\n",
       "  <thead>\n",
       "    <tr style=\"text-align: right;\">\n",
       "      <th></th>\n",
       "      <th>title</th>\n",
       "      <th>year</th>\n",
       "      <th>name</th>\n",
       "      <th>type</th>\n",
       "      <th>character</th>\n",
       "      <th>n</th>\n",
       "    </tr>\n",
       "  </thead>\n",
       "  <tbody>\n",
       "    <tr>\n",
       "      <th>830114</th>\n",
       "      <td>Treasure Island</td>\n",
       "      <td>1918</td>\n",
       "      <td>Charles Gorman</td>\n",
       "      <td>actor</td>\n",
       "      <td>Prologue Player</td>\n",
       "      <td>NaN</td>\n",
       "    </tr>\n",
       "    <tr>\n",
       "      <th>840745</th>\n",
       "      <td>Treasure Island</td>\n",
       "      <td>1918</td>\n",
       "      <td>Joe Grant</td>\n",
       "      <td>actor</td>\n",
       "      <td>Undetermined child role</td>\n",
       "      <td>NaN</td>\n",
       "    </tr>\n",
       "    <tr>\n",
       "      <th>909157</th>\n",
       "      <td>Treasure Island</td>\n",
       "      <td>1918</td>\n",
       "      <td>Edwin Harley</td>\n",
       "      <td>actor</td>\n",
       "      <td>Prologue Player</td>\n",
       "      <td>NaN</td>\n",
       "    </tr>\n",
       "    <tr>\n",
       "      <th>3298306</th>\n",
       "      <td>Treasure Island</td>\n",
       "      <td>1918</td>\n",
       "      <td>Violet Radcliffe</td>\n",
       "      <td>actress</td>\n",
       "      <td>Long John Silver</td>\n",
       "      <td>3.0</td>\n",
       "    </tr>\n",
       "    <tr>\n",
       "      <th>1715014</th>\n",
       "      <td>Treasure Island</td>\n",
       "      <td>1918</td>\n",
       "      <td>Lloyd Perl</td>\n",
       "      <td>actor</td>\n",
       "      <td>Black Dog</td>\n",
       "      <td>4.0</td>\n",
       "    </tr>\n",
       "    <tr>\n",
       "      <th>...</th>\n",
       "      <td>...</td>\n",
       "      <td>...</td>\n",
       "      <td>...</td>\n",
       "      <td>...</td>\n",
       "      <td>...</td>\n",
       "      <td>...</td>\n",
       "    </tr>\n",
       "    <tr>\n",
       "      <th>2420089</th>\n",
       "      <td>Treasure Island</td>\n",
       "      <td>1999</td>\n",
       "      <td>Caveh Zahedi</td>\n",
       "      <td>actor</td>\n",
       "      <td>Harold</td>\n",
       "      <td>9.0</td>\n",
       "    </tr>\n",
       "    <tr>\n",
       "      <th>1637661</th>\n",
       "      <td>Treasure Island</td>\n",
       "      <td>1999</td>\n",
       "      <td>Nick Offerman</td>\n",
       "      <td>actor</td>\n",
       "      <td>Samuel</td>\n",
       "      <td>2.0</td>\n",
       "    </tr>\n",
       "    <tr>\n",
       "      <th>1375015</th>\n",
       "      <td>Treasure Island</td>\n",
       "      <td>1999</td>\n",
       "      <td>J.P. Manoux</td>\n",
       "      <td>actor</td>\n",
       "      <td>Officer Hughes</td>\n",
       "      <td>18.0</td>\n",
       "    </tr>\n",
       "    <tr>\n",
       "      <th>1797264</th>\n",
       "      <td>Treasure Island</td>\n",
       "      <td>1999</td>\n",
       "      <td>Victor Raider-Wexler</td>\n",
       "      <td>actor</td>\n",
       "      <td>Samowitz</td>\n",
       "      <td>10.0</td>\n",
       "    </tr>\n",
       "    <tr>\n",
       "      <th>307749</th>\n",
       "      <td>Treasure Island</td>\n",
       "      <td>1999</td>\n",
       "      <td>Bob Byington</td>\n",
       "      <td>actor</td>\n",
       "      <td>Thomas</td>\n",
       "      <td>12.0</td>\n",
       "    </tr>\n",
       "  </tbody>\n",
       "</table>\n",
       "<p>190 rows × 6 columns</p>\n",
       "</div>"
      ],
      "text/plain": [
       "                   title  year                  name     type  \\\n",
       "830114   Treasure Island  1918        Charles Gorman    actor   \n",
       "840745   Treasure Island  1918             Joe Grant    actor   \n",
       "909157   Treasure Island  1918          Edwin Harley    actor   \n",
       "3298306  Treasure Island  1918      Violet Radcliffe  actress   \n",
       "1715014  Treasure Island  1918            Lloyd Perl    actor   \n",
       "...                  ...   ...                   ...      ...   \n",
       "2420089  Treasure Island  1999          Caveh Zahedi    actor   \n",
       "1637661  Treasure Island  1999         Nick Offerman    actor   \n",
       "1375015  Treasure Island  1999           J.P. Manoux    actor   \n",
       "1797264  Treasure Island  1999  Victor Raider-Wexler    actor   \n",
       "307749   Treasure Island  1999          Bob Byington    actor   \n",
       "\n",
       "                       character     n  \n",
       "830114           Prologue Player   NaN  \n",
       "840745   Undetermined child role   NaN  \n",
       "909157           Prologue Player   NaN  \n",
       "3298306         Long John Silver   3.0  \n",
       "1715014                Black Dog   4.0  \n",
       "...                          ...   ...  \n",
       "2420089                   Harold   9.0  \n",
       "1637661                   Samuel   2.0  \n",
       "1375015           Officer Hughes  18.0  \n",
       "1797264                 Samowitz  10.0  \n",
       "307749                    Thomas  12.0  \n",
       "\n",
       "[190 rows x 6 columns]"
      ]
     },
     "execution_count": 79,
     "metadata": {},
     "output_type": "execute_result"
    }
   ],
   "source": [
    "### List all of the \"Treasure Island\" movies from earliest to most recent.\n",
    "data[data['title']=='Treasure Island'].sort_values('year')"
   ]
  },
  {
   "cell_type": "code",
   "execution_count": 82,
   "id": "a6e7cb06",
   "metadata": {},
   "outputs": [
    {
     "name": "stdout",
     "output_type": "stream",
     "text": [
      "22006\n"
     ]
    }
   ],
   "source": [
    "### How many movies were made in the year 1950?\n",
    "print(len(data[data['year']==1950]))"
   ]
  },
  {
   "cell_type": "code",
   "execution_count": 83,
   "id": "3cb5f54b",
   "metadata": {},
   "outputs": [
    {
     "name": "stdout",
     "output_type": "stream",
     "text": [
      "18456\n"
     ]
    }
   ],
   "source": [
    "### How many movies were made in the year 1960?\n",
    "print(len(data[data['year']==1960]))"
   ]
  },
  {
   "cell_type": "code",
   "execution_count": 85,
   "id": "bc3c15b5",
   "metadata": {},
   "outputs": [
    {
     "name": "stdout",
     "output_type": "stream",
     "text": [
      "192289\n"
     ]
    }
   ],
   "source": [
    "### How many movies were made from 1950 through 1959?\n",
    "print(len(data[(data['year']>=1950)&(data['year'] <1959)]))"
   ]
  },
  {
   "cell_type": "code",
   "execution_count": 89,
   "id": "96504a0e",
   "metadata": {},
   "outputs": [
    {
     "name": "stdout",
     "output_type": "stream",
     "text": [
      "[1943 1989]\n"
     ]
    }
   ],
   "source": [
    "### In what years has a movie titled \"Batman\" been released?\n",
    "print(data[data['title']=='Batman']['year'].unique())"
   ]
  },
  {
   "cell_type": "code",
   "execution_count": 96,
   "id": "98909724",
   "metadata": {},
   "outputs": [
    {
     "name": "stdout",
     "output_type": "stream",
     "text": [
      "55\n"
     ]
    }
   ],
   "source": [
    "### How many roles were there in the movie \"Inception\"?\n",
    "print(data[data['title']=='Inception']['character'].nunique())"
   ]
  },
  {
   "cell_type": "code",
   "execution_count": 116,
   "id": "8805eed6",
   "metadata": {},
   "outputs": [
    {
     "name": "stdout",
     "output_type": "stream",
     "text": [
      "n    26\n",
      "dtype: int64\n"
     ]
    }
   ],
   "source": [
    "### How many roles in the movie \"Inception\" are NOT ranked by an \"n\" value?\n",
    "print(data[data['title']=='Inception'][['n']].isnull().sum())"
   ]
  },
  {
   "cell_type": "code",
   "execution_count": 118,
   "id": "d9155b3e",
   "metadata": {},
   "outputs": [
    {
     "name": "stdout",
     "output_type": "stream",
     "text": [
      "51\n"
     ]
    }
   ],
   "source": [
    "### But how many roles in the movie \"Inception\" did receive an \"n\" value?\n",
    "print(data[data['title']=='Inception']['n'].notnull().sum())"
   ]
  },
  {
   "cell_type": "code",
   "execution_count": 159,
   "id": "495f3313",
   "metadata": {},
   "outputs": [
    {
     "name": "stdout",
     "output_type": "stream",
     "text": [
      "198496             Edward Binns\n",
      "343701           Leo G. Carroll\n",
      "447893          Philip Coolidge\n",
      "642085        Robert Ellenstein\n",
      "840374               Cary Grant\n",
      "1229083           Martin Landau\n",
      "1334726               Ken Lynch\n",
      "1404704             James Mason\n",
      "1454363           Patrick McVey\n",
      "1634552             Philip Ober\n",
      "1746383            Edward Platt\n",
      "2212083            Les Tremayne\n",
      "2357939           Adam Williams\n",
      "2923056    Josephine Hutchinson\n",
      "3024085     Jessie Royce Landis\n",
      "3361396         Eva Marie Saint\n",
      "Name: name, dtype: object\n"
     ]
    }
   ],
   "source": [
    "### Display the cast of \"North by Northwest\" in their correct \"n\"-value order, ignoring roles that did not earn a numeric \"n\" value\n",
    "print( data[(data['title']=='North by Northwest') & (data[\"n\"].notnull())]['name'])\n"
   ]
  },
  {
   "cell_type": "code",
   "execution_count": 169,
   "id": "46360403",
   "metadata": {},
   "outputs": [
    {
     "name": "stdout",
     "output_type": "stream",
     "text": [
      "1644328      Laurence Olivier\n",
      "314691          Michael Caine\n",
      "360365         Alec Cawthorne\n",
      "1412647    John (II) Matthews\n",
      "2619278    Eve (III) Channing\n",
      "1396572          Teddy Martin\n",
      "Name: name, dtype: object\n"
     ]
    }
   ],
   "source": [
    "### Display the entire cast, in \"n\"-order, of the 1972 film \"Sleuth\".\n",
    "print(data[(data['title']=='Sleuth') & (data['year']==1972)].sort_values('n')['name'])"
   ]
  },
  {
   "cell_type": "code",
   "execution_count": 171,
   "id": "6b3fe479",
   "metadata": {},
   "outputs": [
    {
     "name": "stdout",
     "output_type": "stream",
     "text": [
      "314692           Michael Caine\n",
      "1246855               Jude Law\n",
      "1741124          Harold Pinter\n",
      "250297         Kenneth Branagh\n",
      "360366     Alec (II) Cawthorne\n",
      "2619277      Eve (II) Channing\n",
      "3223502      Carmel O'Sullivan\n",
      "Name: name, dtype: object\n"
     ]
    }
   ],
   "source": [
    "### Now display the entire cast, in \"n\"-order, of the 2007 version of \"Sleuth\".\n",
    "print(data[(data['title']=='Sleuth') & (data['year']==2007)].sort_values('n')['name'])"
   ]
  },
  {
   "cell_type": "code",
   "execution_count": 176,
   "id": "db1a0352",
   "metadata": {},
   "outputs": [
    {
     "name": "stdout",
     "output_type": "stream",
     "text": [
      "9\n"
     ]
    }
   ],
   "source": [
    "### How many roles were credited in the silent 1921 version of Hamlet?\n",
    "print(data[(data['title']=='Hamlet') & (data['year']==1921)]['character'].count())"
   ]
  },
  {
   "cell_type": "code",
   "execution_count": 190,
   "id": "dcf85c83",
   "metadata": {},
   "outputs": [
    {
     "name": "stdout",
     "output_type": "stream",
     "text": [
      "1\n"
     ]
    }
   ],
   "source": [
    "### How many roles were credited in Branagh’s 1996 Hamlet?\n",
    "print(data[(data['title']=='Hamlet') & (data['year']==1996) & (data['name']=='Kenneth Branagh')]['character'].count())\n"
   ]
  },
  {
   "cell_type": "code",
   "execution_count": 193,
   "id": "5acaf4b2",
   "metadata": {},
   "outputs": [
    {
     "name": "stdout",
     "output_type": "stream",
     "text": [
      "91\n"
     ]
    }
   ],
   "source": [
    "### How many \"Hamlet\" roles have been listed in all film credits through history?\n",
    "print(data[data['character']=='Hamlet']['character'].count())"
   ]
  },
  {
   "cell_type": "code",
   "execution_count": 197,
   "id": "f1878372",
   "metadata": {},
   "outputs": [
    {
     "name": "stdout",
     "output_type": "stream",
     "text": [
      "111\n"
     ]
    }
   ],
   "source": [
    "### How many people have played an \"Ophelia\"?\n",
    "print(data[data['character']=='Ophelia']['name'].count())"
   ]
  },
  {
   "cell_type": "code",
   "execution_count": 198,
   "id": "01e72b0b",
   "metadata": {},
   "outputs": [
    {
     "name": "stdout",
     "output_type": "stream",
     "text": [
      "18\n"
     ]
    }
   ],
   "source": [
    "### How many people have played a role called \"The Dude\"?\n",
    "print(data[data['character']=='The Dude']['name'].count())"
   ]
  },
  {
   "cell_type": "code",
   "execution_count": 199,
   "id": "a438deab",
   "metadata": {},
   "outputs": [
    {
     "name": "stdout",
     "output_type": "stream",
     "text": [
      "208\n"
     ]
    }
   ],
   "source": [
    "### How many people have played a role called \"The Stranger\"?\n",
    "print(data[data['character']=='The Stranger']['name'].count())"
   ]
  },
  {
   "cell_type": "code",
   "execution_count": 202,
   "id": "a1b2dc33",
   "metadata": {},
   "outputs": [
    {
     "name": "stdout",
     "output_type": "stream",
     "text": [
      "43\n"
     ]
    }
   ],
   "source": [
    "### How many roles has Sidney Poitier played throughout his career?\n",
    "print(data[data['name']=='Sidney Poitier']['character'].count())"
   ]
  },
  {
   "cell_type": "code",
   "execution_count": 203,
   "id": "f850da9c",
   "metadata": {},
   "outputs": [
    {
     "name": "stdout",
     "output_type": "stream",
     "text": [
      "55\n"
     ]
    }
   ],
   "source": [
    "### How many roles has Judi Dench played?\n",
    "print(data[data['name']=='Judi Dench']['character'].count())"
   ]
  },
  {
   "cell_type": "code",
   "execution_count": 210,
   "id": "13744b61",
   "metadata": {},
   "outputs": [
    {
     "name": "stdout",
     "output_type": "stream",
     "text": [
      "840371           Nick\n",
      "840381    Roger Adams\n",
      "Name: character, dtype: object\n"
     ]
    }
   ],
   "source": [
    "### List the supporting roles (having n=2) played by Cary Grant in the 1940s, in order by year.\n",
    "print(data[(data['name']=='Cary Grant') & (data['year']>=1940) & (data['year']<1949) & (data['n']==2)].sort_values('year')['character'])"
   ]
  },
  {
   "cell_type": "code",
   "execution_count": 226,
   "id": "b431161e",
   "metadata": {},
   "outputs": [
    {
     "name": "stdout",
     "output_type": "stream",
     "text": [
      "840397              Matt Howard\n",
      "840353             Walter Burns\n",
      "840399       C. K. Dexter Haven\n",
      "840386                  Johnnie\n",
      "840401             Leopold Dilg\n",
      "840377    Patrick 'Pat' O'Toole\n",
      "840344            Capt. Cassidy\n",
      "840369                Joe Adams\n",
      "840370          Joe Bascopolous\n",
      "840378              Jerry Flynn\n",
      "840336        Mortimer Brewster\n",
      "840373               Ernie Mott\n",
      "840372              Cole Porter\n",
      "840375                   Devlin\n",
      "840393              Dick Nugent\n",
      "840394                   Dudley\n",
      "840368            Jim Blandings\n",
      "840348        Dr. Madison Brown\n",
      "Name: character, dtype: object\n"
     ]
    }
   ],
   "source": [
    "### List the leading roles that Cary Grant played in the 1940s in order by year.\n",
    "print(data[(data['name']=='Cary Grant') & (data['year']>=1940) & (data['year']<1949) & (data['n']==1)].sort_values('year')['character'])"
   ]
  },
  {
   "cell_type": "code",
   "execution_count": 217,
   "id": "d64e7730",
   "metadata": {},
   "outputs": [
    {
     "name": "stdout",
     "output_type": "stream",
     "text": [
      "154727\n"
     ]
    }
   ],
   "source": [
    "### How many roles were available for actors in the 1950s?\n",
    "print(data[(data['type']=='actor') & (data['year'] >=1950)& (data['year']<=1959)]['character'].count())"
   ]
  },
  {
   "cell_type": "code",
   "execution_count": 219,
   "id": "be9b3ae5",
   "metadata": {},
   "outputs": [
    {
     "name": "stdout",
     "output_type": "stream",
     "text": [
      "56259\n"
     ]
    }
   ],
   "source": [
    "### How many roles were available for actresses in the 1950s?\n",
    "print(data[(data['type']=='actress') & (data['year'] >=1950)& (data['year']<=1959)]['character'].count())"
   ]
  },
  {
   "cell_type": "code",
   "execution_count": 222,
   "id": "4db9efcd",
   "metadata": {},
   "outputs": [
    {
     "name": "stdout",
     "output_type": "stream",
     "text": [
      "1143\n"
     ]
    }
   ],
   "source": [
    "### How many leading roles (n=1) were available from the beginning of film history through 1980?\n",
    "print(data[(data['n']==1) & (data['year']==1980)]['character'].count())"
   ]
  },
  {
   "cell_type": "code",
   "execution_count": 225,
   "id": "ee6e3bee",
   "metadata": {},
   "outputs": [
    {
     "name": "stdout",
     "output_type": "stream",
     "text": [
      "21648\n"
     ]
    }
   ],
   "source": [
    "### How many non-leading roles were available through from the beginning of film history through 1980?\n",
    "print(data[(data['n']!=1) & (data['year']==1980)]['character'].count())"
   ]
  },
  {
   "cell_type": "code",
   "execution_count": 231,
   "id": "c66b4d70",
   "metadata": {},
   "outputs": [
    {
     "name": "stdout",
     "output_type": "stream",
     "text": [
      "4227\n"
     ]
    }
   ],
   "source": [
    "### How many roles through 1980 were minor enough that they did not warrant a numeric \"n\" rank?\n",
    "print(data[(data['year']==1980) & (data['n'].isnull())]['character'].count())"
   ]
  }
 ],
 "metadata": {
  "kernelspec": {
   "display_name": "Python 3 (ipykernel)",
   "language": "python",
   "name": "python3"
  },
  "language_info": {
   "codemirror_mode": {
    "name": "ipython",
    "version": 3
   },
   "file_extension": ".py",
   "mimetype": "text/x-python",
   "name": "python",
   "nbconvert_exporter": "python",
   "pygments_lexer": "ipython3",
   "version": "3.10.9"
  }
 },
 "nbformat": 4,
 "nbformat_minor": 5
}
